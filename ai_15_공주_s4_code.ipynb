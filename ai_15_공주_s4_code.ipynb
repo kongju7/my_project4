{
 "cells": [
  {
   "cell_type": "markdown",
   "metadata": {},
   "source": [
    "# S4 Projcet - 사무실 일상 챗봇 <사무실 너머머> 구현"
   ]
  },
  {
   "cell_type": "markdown",
   "metadata": {},
   "source": [
    "## 프로젝트 개요\n",
    "1. 주제 및 데이터 소개: 자연어 처리(NLP) 활용 챗봇 만들기 \n",
    "   - 데이터 : AI Hub 한국어 대화 데이터셋 - 오피스 데이터 (총 4개 파일)\n",
    "2. 자연어 처리 모델: Sentence-BERT \n",
    "   - SBERT 기반 한국어 사전 학습 모델: ko-sroberta-multitask\n",
    "3. 사무실 일상 챗봇 <사무실 너머머> 구현 및 배포\n",
    "   - streamlit 서비스 활용 구현 및 배포  \n",
    "4. 한계 및 향후 계획 \n"
   ]
  },
  {
   "cell_type": "markdown",
   "metadata": {},
   "source": [
    "### 이 파일에서는 실제 코드 구현 부분만 담고 있습니다. "
   ]
  },
  {
   "cell_type": "code",
   "execution_count": 1,
   "metadata": {},
   "outputs": [
    {
     "name": "stderr",
     "output_type": "stream",
     "text": [
      "2022-12-01 21:07:02.270137: I tensorflow/core/platform/cpu_feature_guard.cc:193] This TensorFlow binary is optimized with oneAPI Deep Neural Network Library (oneDNN) to use the following CPU instructions in performance-critical operations:  AVX2 FMA\n",
      "To enable them in other operations, rebuild TensorFlow with the appropriate compiler flags.\n"
     ]
    }
   ],
   "source": [
    "# 기본 설정 \n",
    "import tensorflow as tf \n",
    "import pandas as pd\n",
    "import numpy as np\n",
    "import json \n",
    "import matplotlib.pyplot as plt\n",
    "from sentence_transformers import SentenceTransformer\n",
    "from sklearn.metrics.pairwise import cosine_similarity\n",
    "import warnings\n",
    "\n",
    "warnings.filterwarnings(\"ignore\")\n",
    "%matplotlib inline\n",
    "%config InlineBackend.figure_format='retina'\n",
    "\n",
    "# tf warning 끄기  \n",
    "tf.compat.v1.logging.set_verbosity(tf.compat.v1.logging.ERROR)"
   ]
  },
  {
   "cell_type": "code",
   "execution_count": 2,
   "metadata": {},
   "outputs": [],
   "source": [
    "# 코드 실행 전 seed 지정\n",
    "np.random.seed(42)\n",
    "tf.random.set_seed(42)"
   ]
  },
  {
   "cell_type": "markdown",
   "metadata": {},
   "source": [
    "## 데이터 불러오기 및 합치기"
   ]
  },
  {
   "cell_type": "markdown",
   "metadata": {},
   "source": [
    "![AI Hub 데이터 소개](./img/ai_hub_data.png \"AI Hub 데이터 소개\")"
   ]
  },
  {
   "cell_type": "markdown",
   "metadata": {},
   "source": [
    "- 데이터 : AI Hub - 한국어 대화 데이터셋 - 오피스 데이터 (총 4개 파일)\n",
    "  \n",
    "- 링크 : https://aihub.or.kr/aihubdata/data/view.do?currMenu=115&topMenu=100&dataSetSn=272"
   ]
  },
  {
   "cell_type": "code",
   "execution_count": 3,
   "metadata": {},
   "outputs": [
    {
     "name": "stdout",
     "output_type": "stream",
     "text": [
      "\n",
      "*** df1의 데이터 크기:  (7427, 4)\n",
      "*** df1의 domain 분포:  daily    7427\n",
      "Name: domain, dtype: int64\n",
      "   index domain user_utterance        system_utterance\n",
      "0      0  daily           null  이영자 선임님. 곧 퇴근하실 시간입니다.\n",
      "1      0  daily         알고 있어.        오늘도 고생 많이 하셨습니다.\n",
      "-------------------------------------------------------------\n",
      "\n",
      "*** df2의 데이터 크기:  (5726, 4)\n",
      "*** df2의 domain 분포:  daily    5726\n",
      "Name: domain, dtype: int64\n",
      "   index domain user_utterance system_utterance\n",
      "0      0  daily           null           안녕하세요.\n",
      "1      0  daily            안녕.    아침은 드시고 오셨나요?\n",
      "-------------------------------------------------------------\n",
      "\n",
      "*** df3의 데이터 크기:  (2814, 4)\n",
      "*** df3의 domain 분포:  daily    2814\n",
      "Name: domain, dtype: int64\n",
      "   index domain   user_utterance           system_utterance\n",
      "0      0  daily             null           정혜원 대표님, 안녕하세요. \n",
      "1      0  daily  안녕하세요, 자주 만나네요.  비도 오는데 먼걸음 하시느라 고생하셨습니다. \n"
     ]
    }
   ],
   "source": [
    "# AI Hub에서 다운받은 json 데이터 불러오기 \n",
    "BASE_PATH = '/Users/ju/datasets/office/'\n",
    "\n",
    "# 1번 data (daily)\n",
    "df1 = pd.read_json(BASE_PATH + 'output_daily_1st.json') \n",
    "\n",
    "print(\"\\n*** df1의 데이터 크기: \", df1.shape)\n",
    "print(\"*** df1의 domain 분포: \", df1['domain'].value_counts())\n",
    "\n",
    "print(df1.head(2))\n",
    "print(\"-------------------------------------------------------------\")\n",
    "\n",
    "# 2번 data (daily)\n",
    "df2 = pd.read_json(BASE_PATH + 'output_daily_2nd.json') \n",
    "\n",
    "print(\"\\n*** df2의 데이터 크기: \", df2.shape)\n",
    "print(\"*** df2의 domain 분포: \", df2['domain'].value_counts())\n",
    "\n",
    "print(df2.head(2))\n",
    "print(\"-------------------------------------------------------------\")\n",
    "\n",
    "# 3번 data (daily)\n",
    "df3 = pd.read_json(BASE_PATH + 'output_daily_3rd.json') \n",
    "\n",
    "print(\"\\n*** df3의 데이터 크기: \", df3.shape)\n",
    "print(\"*** df3의 domain 분포: \", df3['domain'].value_counts())\n",
    "\n",
    "print(df3.head(2))"
   ]
  },
  {
   "cell_type": "code",
   "execution_count": 4,
   "metadata": {},
   "outputs": [
    {
     "name": "stdout",
     "output_type": "stream",
     "text": [
      "\n",
      "*** df3의 데이터 크기:  (30447, 4)\n",
      "*** df3의 domain 분포:  meeting     22726\n",
      "schedule     3727\n",
      "email        2956\n",
      "             1038\n",
      "Name: domain, dtype: int64\n"
     ]
    },
    {
     "data": {
      "text/html": [
       "<div>\n",
       "<style scoped>\n",
       "    .dataframe tbody tr th:only-of-type {\n",
       "        vertical-align: middle;\n",
       "    }\n",
       "\n",
       "    .dataframe tbody tr th {\n",
       "        vertical-align: top;\n",
       "    }\n",
       "\n",
       "    .dataframe thead th {\n",
       "        text-align: right;\n",
       "    }\n",
       "</style>\n",
       "<table border=\"1\" class=\"dataframe\">\n",
       "  <thead>\n",
       "    <tr style=\"text-align: right;\">\n",
       "      <th></th>\n",
       "      <th>index</th>\n",
       "      <th>domain</th>\n",
       "      <th>user_utterance</th>\n",
       "      <th>system_utterance</th>\n",
       "    </tr>\n",
       "  </thead>\n",
       "  <tbody>\n",
       "    <tr>\n",
       "      <th>0</th>\n",
       "      <td>0</td>\n",
       "      <td>meeting</td>\n",
       "      <td>null</td>\n",
       "      <td>김철수 센터장님, 안녕하세요?</td>\n",
       "    </tr>\n",
       "    <tr>\n",
       "      <th>1</th>\n",
       "      <td>0</td>\n",
       "      <td>meeting</td>\n",
       "      <td>null</td>\n",
       "      <td>오늘 오후 2시에 인공지능연구센터 중회의실에서 컴패니언 대화엔진 관련 팀회의가 있습...</td>\n",
       "    </tr>\n",
       "    <tr>\n",
       "      <th>2</th>\n",
       "      <td>0</td>\n",
       "      <td>meeting</td>\n",
       "      <td>null</td>\n",
       "      <td>참석가능하신가요?</td>\n",
       "    </tr>\n",
       "    <tr>\n",
       "      <th>3</th>\n",
       "      <td>0</td>\n",
       "      <td>meeting</td>\n",
       "      <td>참석할게.</td>\n",
       "      <td>네, 알겠습니다.</td>\n",
       "    </tr>\n",
       "    <tr>\n",
       "      <th>4</th>\n",
       "      <td>1</td>\n",
       "      <td>meeting</td>\n",
       "      <td>null</td>\n",
       "      <td>김철수 센터장님, 안녕하세요?</td>\n",
       "    </tr>\n",
       "  </tbody>\n",
       "</table>\n",
       "</div>"
      ],
      "text/plain": [
       "   index   domain user_utterance  \\\n",
       "0      0  meeting           null   \n",
       "1      0  meeting           null   \n",
       "2      0  meeting           null   \n",
       "3      0  meeting          참석할게.   \n",
       "4      1  meeting           null   \n",
       "\n",
       "                                    system_utterance  \n",
       "0                                  김철수 센터장님, 안녕하세요?   \n",
       "1  오늘 오후 2시에 인공지능연구센터 중회의실에서 컴패니언 대화엔진 관련 팀회의가 있습...  \n",
       "2                                          참석가능하신가요?  \n",
       "3                                          네, 알겠습니다.  \n",
       "4                                   김철수 센터장님, 안녕하세요?  "
      ]
     },
     "execution_count": 4,
     "metadata": {},
     "output_type": "execute_result"
    }
   ],
   "source": [
    "# 4번 data (목적성 대화: meeting, email. schedule)\n",
    "df4 = pd.read_json(BASE_PATH + 'output_task.json') \n",
    "\n",
    "print(\"\\n*** df3의 데이터 크기: \", df4.shape)\n",
    "print(\"*** df3의 domain 분포: \", df4['domain'].value_counts())\n",
    "\n",
    "df4.head()"
   ]
  },
  {
   "cell_type": "code",
   "execution_count": 5,
   "metadata": {},
   "outputs": [
    {
     "name": "stdout",
     "output_type": "stream",
     "text": [
      "\n",
      "*** df의 데이터 크기:  (46414, 4)\n",
      "*** df의 domain 분포:  meeting     22726\n",
      "daily       15967\n",
      "schedule     3727\n",
      "email        2956\n",
      "             1038\n",
      "Name: domain, dtype: int64\n"
     ]
    },
    {
     "data": {
      "text/html": [
       "<div>\n",
       "<style scoped>\n",
       "    .dataframe tbody tr th:only-of-type {\n",
       "        vertical-align: middle;\n",
       "    }\n",
       "\n",
       "    .dataframe tbody tr th {\n",
       "        vertical-align: top;\n",
       "    }\n",
       "\n",
       "    .dataframe thead th {\n",
       "        text-align: right;\n",
       "    }\n",
       "</style>\n",
       "<table border=\"1\" class=\"dataframe\">\n",
       "  <thead>\n",
       "    <tr style=\"text-align: right;\">\n",
       "      <th></th>\n",
       "      <th>index</th>\n",
       "      <th>domain</th>\n",
       "      <th>user_utterance</th>\n",
       "      <th>system_utterance</th>\n",
       "    </tr>\n",
       "  </thead>\n",
       "  <tbody>\n",
       "    <tr>\n",
       "      <th>0</th>\n",
       "      <td>0</td>\n",
       "      <td>daily</td>\n",
       "      <td>null</td>\n",
       "      <td>이영자 선임님. 곧 퇴근하실 시간입니다.</td>\n",
       "    </tr>\n",
       "    <tr>\n",
       "      <th>1</th>\n",
       "      <td>0</td>\n",
       "      <td>daily</td>\n",
       "      <td>알고 있어.</td>\n",
       "      <td>오늘도 고생 많이 하셨습니다.</td>\n",
       "    </tr>\n",
       "    <tr>\n",
       "      <th>2</th>\n",
       "      <td>1</td>\n",
       "      <td>daily</td>\n",
       "      <td>null</td>\n",
       "      <td>이영자 선임님. 곧 퇴근하실 시간입니다.</td>\n",
       "    </tr>\n",
       "    <tr>\n",
       "      <th>3</th>\n",
       "      <td>1</td>\n",
       "      <td>daily</td>\n",
       "      <td>밖에 날씨는?</td>\n",
       "      <td>월요일 퇴근전 현재 맑고 저온건조한데다가 공기는 맑은 편입니다.</td>\n",
       "    </tr>\n",
       "    <tr>\n",
       "      <th>4</th>\n",
       "      <td>1</td>\n",
       "      <td>daily</td>\n",
       "      <td>알았다.</td>\n",
       "      <td>오늘도 고생이 많으셨습니다.</td>\n",
       "    </tr>\n",
       "  </tbody>\n",
       "</table>\n",
       "</div>"
      ],
      "text/plain": [
       "   index domain user_utterance                     system_utterance\n",
       "0      0  daily           null               이영자 선임님. 곧 퇴근하실 시간입니다.\n",
       "1      0  daily         알고 있어.                     오늘도 고생 많이 하셨습니다.\n",
       "2      1  daily           null               이영자 선임님. 곧 퇴근하실 시간입니다.\n",
       "3      1  daily        밖에 날씨는?  월요일 퇴근전 현재 맑고 저온건조한데다가 공기는 맑은 편입니다.\n",
       "4      1  daily           알았다.                      오늘도 고생이 많으셨습니다."
      ]
     },
     "execution_count": 5,
     "metadata": {},
     "output_type": "execute_result"
    }
   ],
   "source": [
    "# 데이터 합치기 \n",
    "df = pd.concat([df1, df2, df3, df4])\n",
    "\n",
    "print(\"\\n*** df의 데이터 크기: \", df.shape)\n",
    "print(\"*** df의 domain 분포: \", df['domain'].value_counts())\n",
    "\n",
    "df.head()"
   ]
  },
  {
   "cell_type": "markdown",
   "metadata": {},
   "source": [
    "## 데이터 전처리"
   ]
  },
  {
   "cell_type": "code",
   "execution_count": 6,
   "metadata": {},
   "outputs": [
    {
     "name": "stdout",
     "output_type": "stream",
     "text": [
      "index               0\n",
      "domain              0\n",
      "user_utterance      0\n",
      "system_utterance    0\n",
      "dtype: int64\n",
      "index                   0\n",
      "domain                  0\n",
      "user_utterance       9148\n",
      "system_utterance    10618\n",
      "dtype: int64\n"
     ]
    },
    {
     "data": {
      "text/html": [
       "<div>\n",
       "<style scoped>\n",
       "    .dataframe tbody tr th:only-of-type {\n",
       "        vertical-align: middle;\n",
       "    }\n",
       "\n",
       "    .dataframe tbody tr th {\n",
       "        vertical-align: top;\n",
       "    }\n",
       "\n",
       "    .dataframe thead th {\n",
       "        text-align: right;\n",
       "    }\n",
       "</style>\n",
       "<table border=\"1\" class=\"dataframe\">\n",
       "  <thead>\n",
       "    <tr style=\"text-align: right;\">\n",
       "      <th></th>\n",
       "      <th>index</th>\n",
       "      <th>domain</th>\n",
       "      <th>user_utterance</th>\n",
       "      <th>system_utterance</th>\n",
       "    </tr>\n",
       "  </thead>\n",
       "  <tbody>\n",
       "    <tr>\n",
       "      <th>0</th>\n",
       "      <td>0</td>\n",
       "      <td>daily</td>\n",
       "      <td>NaN</td>\n",
       "      <td>이영자 선임님. 곧 퇴근하실 시간입니다.</td>\n",
       "    </tr>\n",
       "    <tr>\n",
       "      <th>1</th>\n",
       "      <td>0</td>\n",
       "      <td>daily</td>\n",
       "      <td>알고 있어.</td>\n",
       "      <td>오늘도 고생 많이 하셨습니다.</td>\n",
       "    </tr>\n",
       "    <tr>\n",
       "      <th>2</th>\n",
       "      <td>1</td>\n",
       "      <td>daily</td>\n",
       "      <td>NaN</td>\n",
       "      <td>이영자 선임님. 곧 퇴근하실 시간입니다.</td>\n",
       "    </tr>\n",
       "    <tr>\n",
       "      <th>3</th>\n",
       "      <td>1</td>\n",
       "      <td>daily</td>\n",
       "      <td>밖에 날씨는?</td>\n",
       "      <td>월요일 퇴근전 현재 맑고 저온건조한데다가 공기는 맑은 편입니다.</td>\n",
       "    </tr>\n",
       "    <tr>\n",
       "      <th>4</th>\n",
       "      <td>1</td>\n",
       "      <td>daily</td>\n",
       "      <td>알았다.</td>\n",
       "      <td>오늘도 고생이 많으셨습니다.</td>\n",
       "    </tr>\n",
       "  </tbody>\n",
       "</table>\n",
       "</div>"
      ],
      "text/plain": [
       "   index domain user_utterance                     system_utterance\n",
       "0      0  daily            NaN               이영자 선임님. 곧 퇴근하실 시간입니다.\n",
       "1      0  daily         알고 있어.                     오늘도 고생 많이 하셨습니다.\n",
       "2      1  daily            NaN               이영자 선임님. 곧 퇴근하실 시간입니다.\n",
       "3      1  daily        밖에 날씨는?  월요일 퇴근전 현재 맑고 저온건조한데다가 공기는 맑은 편입니다.\n",
       "4      1  daily           알았다.                      오늘도 고생이 많으셨습니다."
      ]
     },
     "execution_count": 6,
     "metadata": {},
     "output_type": "execute_result"
    }
   ],
   "source": [
    "# 결측치 확인 \n",
    "print(df.isnull().sum())\n",
    "\n",
    "# 'null' -> NaN 값으로 변경 \n",
    "df['user_utterance'] = df['user_utterance'].replace('null', np.nan)\n",
    "df['system_utterance'] = df['system_utterance'].replace('null', np.nan)\n",
    "\n",
    "# 결측치 재확인 \n",
    "print(df.isnull().sum())\n",
    "df.head()"
   ]
  },
  {
   "cell_type": "code",
   "execution_count": 7,
   "metadata": {},
   "outputs": [
    {
     "data": {
      "text/plain": [
       "index               0\n",
       "domain              0\n",
       "user_utterance      0\n",
       "system_utterance    0\n",
       "dtype: int64"
      ]
     },
     "execution_count": 7,
     "metadata": {},
     "output_type": "execute_result"
    }
   ],
   "source": [
    "# 결측치 제거 -> 다시 확인 \n",
    "df = df.dropna()\n",
    "df.isnull().sum()"
   ]
  },
  {
   "cell_type": "code",
   "execution_count": 8,
   "metadata": {},
   "outputs": [
    {
     "data": {
      "text/plain": [
       "0"
      ]
     },
     "execution_count": 8,
     "metadata": {},
     "output_type": "execute_result"
    }
   ],
   "source": [
    "# 중복값 확인 -> 확인 \n",
    "df.duplicated().sum()"
   ]
  },
  {
   "cell_type": "code",
   "execution_count": 9,
   "metadata": {},
   "outputs": [
    {
     "data": {
      "text/html": [
       "<div>\n",
       "<style scoped>\n",
       "    .dataframe tbody tr th:only-of-type {\n",
       "        vertical-align: middle;\n",
       "    }\n",
       "\n",
       "    .dataframe tbody tr th {\n",
       "        vertical-align: top;\n",
       "    }\n",
       "\n",
       "    .dataframe thead th {\n",
       "        text-align: right;\n",
       "    }\n",
       "</style>\n",
       "<table border=\"1\" class=\"dataframe\">\n",
       "  <thead>\n",
       "    <tr style=\"text-align: right;\">\n",
       "      <th></th>\n",
       "      <th>index</th>\n",
       "      <th>domain</th>\n",
       "      <th>question</th>\n",
       "      <th>answer</th>\n",
       "    </tr>\n",
       "  </thead>\n",
       "  <tbody>\n",
       "    <tr>\n",
       "      <th>1</th>\n",
       "      <td>0</td>\n",
       "      <td>daily</td>\n",
       "      <td>알고 있어.</td>\n",
       "      <td>오늘도 고생 많이 하셨습니다.</td>\n",
       "    </tr>\n",
       "    <tr>\n",
       "      <th>3</th>\n",
       "      <td>1</td>\n",
       "      <td>daily</td>\n",
       "      <td>밖에 날씨는?</td>\n",
       "      <td>월요일 퇴근전 현재 맑고 저온건조한데다가 공기는 맑은 편입니다.</td>\n",
       "    </tr>\n",
       "    <tr>\n",
       "      <th>4</th>\n",
       "      <td>1</td>\n",
       "      <td>daily</td>\n",
       "      <td>알았다.</td>\n",
       "      <td>오늘도 고생이 많으셨습니다.</td>\n",
       "    </tr>\n",
       "    <tr>\n",
       "      <th>5</th>\n",
       "      <td>2</td>\n",
       "      <td>daily</td>\n",
       "      <td>퇴근한다.</td>\n",
       "      <td>오늘도 일하느라 수고하셨어요.</td>\n",
       "    </tr>\n",
       "    <tr>\n",
       "      <th>6</th>\n",
       "      <td>2</td>\n",
       "      <td>daily</td>\n",
       "      <td>알면 됐다.</td>\n",
       "      <td>그럼 내일 뵙겠습니다.</td>\n",
       "    </tr>\n",
       "  </tbody>\n",
       "</table>\n",
       "</div>"
      ],
      "text/plain": [
       "   index domain question                               answer\n",
       "1      0  daily   알고 있어.                     오늘도 고생 많이 하셨습니다.\n",
       "3      1  daily  밖에 날씨는?  월요일 퇴근전 현재 맑고 저온건조한데다가 공기는 맑은 편입니다.\n",
       "4      1  daily     알았다.                      오늘도 고생이 많으셨습니다.\n",
       "5      2  daily    퇴근한다.                     오늘도 일하느라 수고하셨어요.\n",
       "6      2  daily   알면 됐다.                         그럼 내일 뵙겠습니다."
      ]
     },
     "execution_count": 9,
     "metadata": {},
     "output_type": "execute_result"
    }
   ],
   "source": [
    "# 직관적으로 이해하기 위해 컬럼명 'qeustion', 'answer' 방식으로 변경 \n",
    "df = df.rename(columns = {'user_utterance' : 'question', 'system_utterance': 'answer'})\n",
    "df.head()"
   ]
  },
  {
   "cell_type": "code",
   "execution_count": 10,
   "metadata": {},
   "outputs": [
    {
     "data": {
      "text/html": [
       "<div>\n",
       "<style scoped>\n",
       "    .dataframe tbody tr th:only-of-type {\n",
       "        vertical-align: middle;\n",
       "    }\n",
       "\n",
       "    .dataframe tbody tr th {\n",
       "        vertical-align: top;\n",
       "    }\n",
       "\n",
       "    .dataframe thead th {\n",
       "        text-align: right;\n",
       "    }\n",
       "</style>\n",
       "<table border=\"1\" class=\"dataframe\">\n",
       "  <thead>\n",
       "    <tr style=\"text-align: right;\">\n",
       "      <th></th>\n",
       "      <th>domain</th>\n",
       "      <th>question</th>\n",
       "      <th>answer</th>\n",
       "    </tr>\n",
       "  </thead>\n",
       "  <tbody>\n",
       "    <tr>\n",
       "      <th>1</th>\n",
       "      <td>daily</td>\n",
       "      <td>알고 있어.</td>\n",
       "      <td>오늘도 고생 많이 하셨습니다.</td>\n",
       "    </tr>\n",
       "    <tr>\n",
       "      <th>3</th>\n",
       "      <td>daily</td>\n",
       "      <td>밖에 날씨는?</td>\n",
       "      <td>월요일 퇴근전 현재 맑고 저온건조한데다가 공기는 맑은 편입니다.</td>\n",
       "    </tr>\n",
       "    <tr>\n",
       "      <th>4</th>\n",
       "      <td>daily</td>\n",
       "      <td>알았다.</td>\n",
       "      <td>오늘도 고생이 많으셨습니다.</td>\n",
       "    </tr>\n",
       "    <tr>\n",
       "      <th>5</th>\n",
       "      <td>daily</td>\n",
       "      <td>퇴근한다.</td>\n",
       "      <td>오늘도 일하느라 수고하셨어요.</td>\n",
       "    </tr>\n",
       "    <tr>\n",
       "      <th>6</th>\n",
       "      <td>daily</td>\n",
       "      <td>알면 됐다.</td>\n",
       "      <td>그럼 내일 뵙겠습니다.</td>\n",
       "    </tr>\n",
       "  </tbody>\n",
       "</table>\n",
       "</div>"
      ],
      "text/plain": [
       "  domain question                               answer\n",
       "1  daily   알고 있어.                     오늘도 고생 많이 하셨습니다.\n",
       "3  daily  밖에 날씨는?  월요일 퇴근전 현재 맑고 저온건조한데다가 공기는 맑은 편입니다.\n",
       "4  daily     알았다.                      오늘도 고생이 많으셨습니다.\n",
       "5  daily    퇴근한다.                     오늘도 일하느라 수고하셨어요.\n",
       "6  daily   알면 됐다.                         그럼 내일 뵙겠습니다."
      ]
     },
     "execution_count": 10,
     "metadata": {},
     "output_type": "execute_result"
    }
   ],
   "source": [
    "# 불필요한 컬럼 삭제\n",
    "df = df[['domain', 'question', 'answer']]\n",
    "df.head()"
   ]
  },
  {
   "cell_type": "code",
   "execution_count": 16,
   "metadata": {},
   "outputs": [
    {
     "data": {
      "text/html": [
       "<div>\n",
       "<style scoped>\n",
       "    .dataframe tbody tr th:only-of-type {\n",
       "        vertical-align: middle;\n",
       "    }\n",
       "\n",
       "    .dataframe tbody tr th {\n",
       "        vertical-align: top;\n",
       "    }\n",
       "\n",
       "    .dataframe thead th {\n",
       "        text-align: right;\n",
       "    }\n",
       "</style>\n",
       "<table border=\"1\" class=\"dataframe\">\n",
       "  <thead>\n",
       "    <tr style=\"text-align: right;\">\n",
       "      <th></th>\n",
       "      <th>domain</th>\n",
       "      <th>question</th>\n",
       "      <th>answer</th>\n",
       "    </tr>\n",
       "  </thead>\n",
       "  <tbody>\n",
       "    <tr>\n",
       "      <th>0</th>\n",
       "      <td>daily</td>\n",
       "      <td>알고 있어.</td>\n",
       "      <td>오늘도 고생 많이 하셨습니다.</td>\n",
       "    </tr>\n",
       "    <tr>\n",
       "      <th>1</th>\n",
       "      <td>daily</td>\n",
       "      <td>밖에 날씨는?</td>\n",
       "      <td>월요일 퇴근전 현재 맑고 저온건조한데다가 공기는 맑은 편입니다.</td>\n",
       "    </tr>\n",
       "    <tr>\n",
       "      <th>2</th>\n",
       "      <td>daily</td>\n",
       "      <td>알았다.</td>\n",
       "      <td>오늘도 고생이 많으셨습니다.</td>\n",
       "    </tr>\n",
       "    <tr>\n",
       "      <th>3</th>\n",
       "      <td>daily</td>\n",
       "      <td>퇴근한다.</td>\n",
       "      <td>오늘도 일하느라 수고하셨어요.</td>\n",
       "    </tr>\n",
       "    <tr>\n",
       "      <th>4</th>\n",
       "      <td>daily</td>\n",
       "      <td>알면 됐다.</td>\n",
       "      <td>그럼 내일 뵙겠습니다.</td>\n",
       "    </tr>\n",
       "  </tbody>\n",
       "</table>\n",
       "</div>"
      ],
      "text/plain": [
       "  domain question                               answer\n",
       "0  daily   알고 있어.                     오늘도 고생 많이 하셨습니다.\n",
       "1  daily  밖에 날씨는?  월요일 퇴근전 현재 맑고 저온건조한데다가 공기는 맑은 편입니다.\n",
       "2  daily     알았다.                      오늘도 고생이 많으셨습니다.\n",
       "3  daily    퇴근한다.                     오늘도 일하느라 수고하셨어요.\n",
       "4  daily   알면 됐다.                         그럼 내일 뵙겠습니다."
      ]
     },
     "execution_count": 16,
     "metadata": {},
     "output_type": "execute_result"
    }
   ],
   "source": [
    "# 인덱스 재지정 \n",
    "df = df.reset_index(drop = True)\n",
    "df.head()"
   ]
  },
  {
   "cell_type": "code",
   "execution_count": 20,
   "metadata": {},
   "outputs": [
    {
     "name": "stdout",
     "output_type": "stream",
     "text": [
      "(26648, 3)\n"
     ]
    },
    {
     "data": {
      "text/plain": [
       "daily       13611\n",
       "meeting      6893\n",
       "email        2924\n",
       "schedule     2784\n",
       "              436\n",
       "Name: domain, dtype: int64"
      ]
     },
     "execution_count": 20,
     "metadata": {},
     "output_type": "execute_result"
    }
   ],
   "source": [
    "# 최종 데이터 크기 \n",
    "print(df.shape)\n",
    "\n",
    "# domain 분포 \n",
    "df['domain'].value_counts()"
   ]
  },
  {
   "cell_type": "code",
   "execution_count": 11,
   "metadata": {},
   "outputs": [],
   "source": [
    "# 재사용을 csv로 저장 \n",
    "df.to_csv('office_conversation.csv')"
   ]
  },
  {
   "cell_type": "markdown",
   "metadata": {},
   "source": [
    "## 자연어 처리 모델: Sentence-BERT 모델 로드"
   ]
  },
  {
   "cell_type": "markdown",
   "metadata": {},
   "source": [
    "![SBERT 논문](./img/SBERT_paper.png \"SBERT 논문\")"
   ]
  },
  {
   "cell_type": "markdown",
   "metadata": {},
   "source": [
    "- **Sentence-BERT**: 대표적인 ‘언어 모델(language model)’인 BERT 모델(Google, 2018년 발표)에 미세학습조정 (fine-tuning)을 통해 문장 임베딩의 ‘성능’과 ‘속도’를 개선시킨 모델. 문장의 의미적 유사도 검색 등에 강점을 지니고 있음. \n",
    "\n",
    "- 참고논문 : Reimers, Nils, and Iryna Gurevych. \"Sentence-bert: Sentence embeddings using siamese bert-networks.\" arXiv preprint arXiv:1908.10084 (2019).\n",
    "  \n",
    "- 링크 : https://arxiv.org/pdf/1908.10084.pdf"
   ]
  },
  {
   "cell_type": "markdown",
   "metadata": {},
   "source": [
    "### SBERT 기반 한국어 사전 학습 모델: ko-sroberta-multitask"
   ]
  },
  {
   "cell_type": "markdown",
   "metadata": {},
   "source": [
    "![SBERT 기반 한국어 사전 학습 모델](./img/hugging_ko_sroberta.png \"SBERT 기반 한국어 사전 학습 모델\")"
   ]
  },
  {
   "cell_type": "markdown",
   "metadata": {},
   "source": [
    "- 링크: (허깅페이스) https://huggingface.co/jhgan/ko-sroberta-multitask"
   ]
  },
  {
   "cell_type": "code",
   "execution_count": 12,
   "metadata": {},
   "outputs": [
    {
     "name": "stdout",
     "output_type": "stream",
     "text": [
      "[[-0.37510464 -0.7733839   0.5927711  ...  0.57923526  0.32683483\n",
      "  -0.6508965 ]\n",
      " [-0.09361704 -0.18191524 -0.19230816 ... -0.03165802  0.30412534\n",
      "  -0.2679362 ]]\n"
     ]
    }
   ],
   "source": [
    "# 사전 학습된 SBERT 기반 한국어 모델 불러오기 \n",
    "model = SentenceTransformer('jhgan/ko-sroberta-multitask')\n",
    "\n",
    "# 예제로 임베딩 확인 \n",
    "sentences = [\"안녕하세요?\", \"한국어 문장 임베딩을 위한 버트 모델입니다.\"] # 768 차원의 벡터로 바뀜\n",
    "embeddings = model.encode(sentences)\n",
    "\n",
    "print(embeddings)"
   ]
  },
  {
   "cell_type": "code",
   "execution_count": 14,
   "metadata": {},
   "outputs": [
    {
     "data": {
      "text/plain": [
       "(2, 768)"
      ]
     },
     "execution_count": 14,
     "metadata": {},
     "output_type": "execute_result"
    }
   ],
   "source": [
    "# 임베딩 크기 (문장 수, 768 차원) 확인\n",
    "embeddings.shape"
   ]
  },
  {
   "cell_type": "markdown",
   "metadata": {},
   "source": [
    "## 챗봇 데이터에 문장 임베딩 적용"
   ]
  },
  {
   "cell_type": "code",
   "execution_count": 17,
   "metadata": {},
   "outputs": [
    {
     "data": {
      "text/plain": [
       "'알고 있어.'"
      ]
     },
     "execution_count": 17,
     "metadata": {},
     "output_type": "execute_result"
    }
   ],
   "source": [
    "df.loc[0, 'question']"
   ]
  },
  {
   "cell_type": "code",
   "execution_count": 18,
   "metadata": {},
   "outputs": [
    {
     "data": {
      "text/plain": [
       "array([ 1.39510900e-01, -7.23620176e-01, -3.65751863e-01,  1.49114162e-01,\n",
       "       -3.20672244e-01, -2.50401258e-01, -4.96178716e-01,  1.16734743e-01,\n",
       "        1.83035776e-01,  9.19244587e-02, -3.74977827e-01, -3.82542968e-01,\n",
       "        1.29345655e-02,  4.20451164e-01,  5.10449111e-01, -2.47830376e-01,\n",
       "        1.47755474e-01,  1.32183820e-01,  4.50318724e-01, -7.48629153e-01,\n",
       "        1.41782209e-01,  3.17309976e-01,  3.85159217e-02,  4.20365810e-01,\n",
       "        1.69757679e-01,  1.52960911e-01, -4.37234640e-02, -1.97519436e-02,\n",
       "        8.24200928e-01, -9.44392085e-02, -3.43870483e-02, -3.46485257e-01,\n",
       "       -1.89879999e-01, -4.73274708e-01,  5.06073534e-01,  2.04955459e-01,\n",
       "        7.12405443e-01, -1.55949295e-01, -3.51359218e-01, -4.70389694e-01,\n",
       "       -4.59905975e-02, -3.29444736e-01, -5.12373388e-01,  2.11201683e-01,\n",
       "       -2.43167937e-01, -7.13101149e-01,  2.15692043e-01, -2.81167179e-01,\n",
       "       -4.20595497e-01, -4.68152724e-02,  5.21526039e-02, -9.59128618e-01,\n",
       "       -3.15538198e-01,  7.64868736e-01,  2.53377855e-01,  1.14078499e-01,\n",
       "        1.15391344e-01,  1.86725542e-01,  1.04575217e-01, -1.25001609e-01,\n",
       "        2.42022887e-01, -1.51796697e-03, -3.35943490e-01,  2.09351256e-01,\n",
       "       -1.67292729e-01, -1.18500041e-02,  8.03248361e-02,  9.53953564e-02,\n",
       "       -1.10395980e+00,  2.43130043e-01,  1.89814627e-01,  4.47889090e-01,\n",
       "       -1.15606539e-01, -4.85879093e-01, -1.81023002e-01,  9.93867517e-02,\n",
       "       -2.84366101e-01,  2.33114183e-01,  2.93806732e-01, -3.63295317e-01,\n",
       "       -3.63818705e-02, -4.70172167e-01,  4.02165264e-01, -5.32445848e-01,\n",
       "        5.60765684e-01, -5.84999025e-01,  3.08416039e-01,  1.42578082e-02,\n",
       "       -4.30106908e-01,  3.68961126e-01,  2.70690974e-02, -2.72570580e-01,\n",
       "       -2.10855141e-01, -5.80174983e-01, -4.55104828e-01,  2.75505275e-01,\n",
       "        2.81411558e-01,  3.47588621e-02,  2.44304121e-01,  1.72540441e-01,\n",
       "       -5.14682710e-01, -1.25328064e-01,  3.63847047e-01, -2.83156395e-01,\n",
       "       -1.40467420e-01, -3.88554603e-01, -6.94714999e-03,  5.54137193e-02,\n",
       "        2.05134191e-02,  2.14557707e-01, -3.60577293e-02, -5.00840962e-01,\n",
       "        2.06100807e-01,  2.33493090e-01, -9.14706588e-02,  2.70531267e-01,\n",
       "       -5.19495666e-01, -4.92536575e-01, -8.87227878e-02, -2.52053350e-01,\n",
       "       -3.06493193e-01, -7.24299610e-01,  3.30828309e-01,  2.84168217e-02,\n",
       "       -3.92469883e-01,  1.26937285e-01,  6.80369616e-01, -1.27474904e-01,\n",
       "       -1.87432230e-01, -8.78170431e-01,  1.92171767e-01, -3.85754973e-01,\n",
       "       -4.35682505e-01, -2.75326073e-02, -9.60156322e-02,  4.76529216e-03,\n",
       "       -4.57746536e-01,  1.06077231e-01, -2.59690374e-01,  5.87475419e-01,\n",
       "        3.01925182e-01,  3.53196770e-01, -7.70188719e-02, -1.74645767e-01,\n",
       "        1.52632132e-01,  4.82277632e-01,  5.98501444e-01, -4.14979368e-01,\n",
       "        2.86406994e-01, -3.12237650e-01, -1.27794191e-01,  1.41887978e-01,\n",
       "       -4.90019947e-01,  4.54251289e-01, -2.16249347e-01, -8.17224979e-01,\n",
       "        3.28159362e-01, -1.83384325e-02,  6.98099611e-03, -2.11558953e-01,\n",
       "       -8.49162042e-03, -5.50231822e-02, -3.13828737e-01,  1.38467386e-01,\n",
       "        9.33795571e-02,  7.33401477e-02,  3.85161430e-01,  2.88757354e-01,\n",
       "        1.62221398e-02,  4.78742361e-01,  4.15481657e-01,  2.07721248e-01,\n",
       "       -5.90550490e-02, -9.10342205e-03,  1.69411257e-01, -2.46763155e-01,\n",
       "        2.37025842e-01, -1.07665263e-01, -3.90348166e-01, -2.27348641e-01,\n",
       "        1.14484169e-01,  2.92989969e-01,  4.14556712e-01,  1.69487461e-01,\n",
       "       -3.52051139e-01,  2.68355161e-02, -2.20929489e-01,  5.50002754e-01,\n",
       "       -5.65956354e-01, -2.79127836e-01,  7.70213842e-01,  1.92534432e-01,\n",
       "        2.17683300e-01, -4.41097885e-01,  2.50527322e-01,  7.07565963e-01,\n",
       "       -6.05035722e-01, -4.83195275e-01, -9.19896066e-02, -1.17043637e-01,\n",
       "       -1.48117781e-01, -6.34162009e-01,  1.14986755e-01,  3.54543962e-02,\n",
       "       -2.87237793e-01, -1.54097393e-01,  2.13638153e-02, -5.35062015e-01,\n",
       "       -1.16987191e-01, -5.30934572e-01,  1.98042989e-01,  1.96962699e-01,\n",
       "        5.00068247e-01,  2.28396133e-02,  3.32214803e-01,  1.14473403e-01,\n",
       "        1.20360993e-01,  3.01058322e-01,  5.19412339e-01, -2.38038838e-01,\n",
       "        9.17051792e-01, -1.66108474e-01, -2.34721750e-02, -1.43926755e-01,\n",
       "        2.96253651e-01,  7.96038136e-02,  5.72627366e-01,  8.87551248e-01,\n",
       "        3.24139088e-01, -8.94567311e-01,  1.72134697e-01, -4.67337929e-02,\n",
       "        6.44846633e-02, -1.93993613e-01, -2.35757232e-01, -4.04146671e-01,\n",
       "        5.91800570e-01, -3.33681971e-01,  1.40436545e-01, -4.23604012e-01,\n",
       "       -1.79903224e-01,  3.66696447e-01, -1.83892787e-01, -3.94376755e-01,\n",
       "       -8.89974833e-02, -7.51055479e-02, -3.13681662e-01, -4.69048411e-01,\n",
       "       -3.72321248e-01, -3.75380605e-01,  6.84600472e-02,  3.47190112e-01,\n",
       "        2.62439400e-01,  8.03669170e-03, -3.05124909e-01,  1.31928816e-01,\n",
       "       -2.80457854e-01,  4.39336389e-01, -4.04620796e-01,  4.00785767e-02,\n",
       "       -8.40156555e-01,  1.44942820e-01, -2.75945425e-01, -1.11074448e-01,\n",
       "        1.71544299e-01,  4.51029629e-01, -2.25643560e-01, -1.42012283e-01,\n",
       "       -2.97481686e-01,  1.63133100e-01, -3.48929852e-01,  2.07240596e-01,\n",
       "        6.00565135e-01, -2.06363812e-01,  1.76061466e-01, -7.90411755e-02,\n",
       "       -2.52787590e-01,  8.64485800e-01, -2.61169285e-01, -6.98939025e-01,\n",
       "        1.05614686e+00,  2.32053444e-01,  7.78113529e-02,  1.44750699e-01,\n",
       "        2.78650373e-01, -2.97930300e-01,  1.01582444e+00, -3.86453837e-01,\n",
       "       -9.18780565e-02,  1.69387851e-02, -3.30628961e-01,  1.85173556e-01,\n",
       "       -5.97742945e-02, -1.90135431e+00, -5.08459687e-01,  3.48220229e-01,\n",
       "       -3.78941298e-02,  4.88861442e-01,  1.90196931e-03, -9.06743109e-02,\n",
       "        2.28639901e-01, -1.81516290e-01, -1.50907964e-01,  3.96407127e-01,\n",
       "       -3.56760353e-01, -2.88331509e-01, -6.17647409e-01, -1.79434922e-02,\n",
       "       -1.66719720e-01,  4.09586579e-01,  3.74825984e-01, -4.67849016e-01,\n",
       "        2.11679056e-01, -1.27191469e-01,  4.89689372e-02,  1.24246202e-01,\n",
       "        3.78322691e-01, -1.45631596e-01, -2.80536413e-01, -4.29535300e-01,\n",
       "        3.73934172e-02, -4.60832082e-02, -2.30637327e-01,  7.58354664e-02,\n",
       "        2.12566450e-01,  2.10531786e-01, -2.73496564e-02, -2.60400623e-01,\n",
       "       -7.85332859e-01,  9.52384900e-03, -8.81867781e-02, -8.08537900e-01,\n",
       "       -1.77274287e-01, -1.64946765e-01,  3.92963648e-01, -4.18385565e-02,\n",
       "       -4.02143411e-02, -3.74899060e-01, -3.68754655e-01, -2.37229392e-01,\n",
       "        6.69750869e-01,  1.00440182e-01, -2.34604478e-01,  3.74536544e-01,\n",
       "        6.51419386e-02,  2.25087380e+00, -5.19080341e-01, -3.78301471e-01,\n",
       "       -5.34382284e-01, -2.77050287e-01, -6.98269129e-01, -4.62872118e-01,\n",
       "       -1.63690403e-01,  2.39654914e-01, -5.53362906e-01,  5.89083917e-02,\n",
       "        9.10439715e-02,  3.34928483e-01, -3.82785089e-02,  4.87416297e-01,\n",
       "        2.55015224e-01,  1.99121043e-01,  6.83899939e-01, -4.71410364e-01,\n",
       "       -4.00112301e-01,  1.27086118e-01, -3.80065203e-01,  4.92030174e-01,\n",
       "        1.23856805e-01,  5.18057287e-01,  4.68430310e-01, -4.20654029e-01,\n",
       "        8.08803961e-02, -1.99031994e-01,  3.50776196e-01,  3.77351522e-01,\n",
       "       -6.67721108e-02, -3.11574966e-01, -5.62838614e-01, -2.38804892e-01,\n",
       "        7.13552237e-02,  3.08238506e-01, -1.40939757e-01, -5.15281260e-01,\n",
       "        4.63497549e-01, -2.40668759e-01, -6.48280978e-02, -4.34702396e-01,\n",
       "       -5.19037247e-02, -3.09023172e-01,  7.79273748e-01,  1.60342425e-01,\n",
       "       -2.37720117e-01, -6.14709914e-01,  6.90955222e-02,  4.34482366e-01,\n",
       "       -1.90423012e-01, -1.72801733e-01,  3.39651585e-01, -3.57054663e-03,\n",
       "       -1.14255704e-01, -5.51654994e-01,  1.87259123e-01,  4.95362669e-01,\n",
       "       -6.57346398e-02, -7.90841058e-02,  3.14632386e-01,  2.10241172e-02,\n",
       "       -2.26175532e-01,  7.16238022e-02, -4.53708023e-01, -4.17627096e-01,\n",
       "       -1.27197206e-01, -6.13391399e-03,  7.73198068e-01, -6.52162552e-01,\n",
       "        1.01786935e+00,  3.72573048e-01,  2.50508934e-01,  2.50559062e-01,\n",
       "        5.83340049e-01, -4.04791594e-01, -8.58446136e-02,  3.35351557e-01,\n",
       "       -1.02374209e-02, -6.64723217e-02,  1.35699078e-01, -7.70544946e-01,\n",
       "       -5.47694147e-01, -1.25354543e-01,  3.35946470e-01, -6.14464819e-01,\n",
       "       -6.41942024e-01,  1.12983204e-01, -2.08466753e-01, -1.99013427e-01,\n",
       "       -3.66999507e-02, -1.83820650e-02, -8.56005371e-01, -3.59684676e-01,\n",
       "       -9.49284360e-02,  3.66636753e-01, -4.15453315e-02,  5.52209616e-02,\n",
       "       -4.40192789e-01, -2.52097338e-01, -7.52136528e-01, -2.11283922e-01,\n",
       "       -7.78015181e-02,  1.59953125e-02, -4.46204990e-01,  2.68091500e-01,\n",
       "        2.61729032e-01,  1.88735589e-01,  2.18434930e-01,  8.32748234e-01,\n",
       "       -2.50069886e-01,  5.52492440e-01,  6.98016167e-01, -7.31574059e-01,\n",
       "       -4.25000578e-01, -1.67461514e-01, -3.31966072e-01, -9.77138504e-02,\n",
       "        5.24513483e-01,  2.96683997e-01, -6.04305565e-01, -2.27335751e-01,\n",
       "        4.25058156e-02,  3.83994222e-01, -5.31628072e-01, -2.39904404e-01,\n",
       "        4.13244814e-01,  9.28477421e-02, -5.57217836e-01, -3.87354851e-01,\n",
       "        2.84576803e-01,  2.55444180e-02, -1.64536357e-01, -2.35890806e-01,\n",
       "       -2.36584738e-01, -4.45988029e-01,  2.73854047e-01, -6.92667007e-01,\n",
       "        3.24570626e-01,  1.77014068e-01, -6.38532043e-01, -3.05517316e-01,\n",
       "       -1.79481149e-01,  2.88592935e-01,  2.00184524e-01,  1.24469906e-01,\n",
       "        3.78949881e-01,  1.86814785e-01, -3.86767089e-03, -7.13200152e-01,\n",
       "       -2.96347469e-01, -1.17399417e-01,  3.05361506e-02, -2.95454115e-01,\n",
       "       -5.44934571e-01,  3.24849278e-01,  4.66865711e-02, -5.49229801e-01,\n",
       "        2.50265598e-01, -1.67724207e-01, -6.14843667e-01,  1.47755623e-01,\n",
       "        2.31931284e-01,  6.90049082e-02, -4.69899267e-01, -5.22873439e-02,\n",
       "        1.44538546e+00,  8.33487689e-01,  8.82304013e-01,  3.23276557e-02,\n",
       "       -1.39650151e-01, -3.88563246e-01, -2.09962428e-01,  2.79687494e-01,\n",
       "        2.96083093e-01, -3.73944253e-01,  5.46792805e-01, -4.47149128e-01,\n",
       "        2.49478862e-01, -4.58516926e-02, -1.46933600e-01, -5.54630220e-01,\n",
       "        9.17831063e-02, -3.54711384e-01,  2.89269120e-01,  1.31070465e-02,\n",
       "       -5.84794223e-01, -5.35197675e-01,  6.39920235e-01,  1.79040119e-01,\n",
       "        1.68926075e-01, -4.81206208e-01, -4.06888872e-01,  4.19515282e-01,\n",
       "        2.28658393e-01, -5.27156778e-02, -1.51305854e-01, -7.41262734e-01,\n",
       "       -1.80295363e-01,  3.78647804e-01,  3.10423642e-01, -8.79472494e-03,\n",
       "        4.82409716e-01, -1.60024408e-02, -1.23671256e-01, -5.53623557e-01,\n",
       "       -1.38633147e-01, -5.18463194e-01, -4.27091688e-01, -3.00628304e-01,\n",
       "        3.45567256e-01, -8.37815478e-02, -4.38571900e-01, -2.77542859e-01,\n",
       "       -2.96933919e-01,  2.87575006e-01, -5.95260262e-01, -2.16897145e-01,\n",
       "        2.01588124e-03,  6.13327801e-01,  1.18486844e-01, -7.28640318e-01,\n",
       "       -1.92016423e-01,  4.75166649e-01,  1.05315697e+00, -4.01425064e-02,\n",
       "        1.42523408e-01, -3.30974340e-01, -1.48645669e-01, -1.01198494e+00,\n",
       "       -2.18087077e-01, -3.79336506e-01, -2.09465921e-01, -9.48603213e-01,\n",
       "        3.55512835e-02, -1.12882040e-01, -9.87112299e-02, -1.26095518e-01,\n",
       "        9.84688818e-01,  5.24190478e-02,  1.30352810e-01,  6.34878635e-01,\n",
       "       -6.34351671e-02,  1.23715244e-01,  4.40477915e-02, -8.87576398e-03,\n",
       "        2.97245115e-01,  4.21172470e-01,  1.37873217e-01, -1.91076741e-01,\n",
       "       -3.35321903e-01, -1.44576663e-02,  1.82090536e-01,  4.69485611e-01,\n",
       "       -4.46000785e-01,  4.78912920e-01,  3.05972219e-01, -3.37183833e-01,\n",
       "       -2.13272139e-01,  1.49304822e-01,  1.77663863e-01, -5.20594381e-02,\n",
       "        6.10382617e-01, -3.96812528e-01,  3.21718931e-01, -2.44458988e-01,\n",
       "       -4.50951099e-01,  2.01249957e-01, -7.56294310e-01, -4.69779968e-01,\n",
       "       -5.77580750e-01,  1.77944958e-01,  7.93253243e-01,  6.85210049e-01,\n",
       "        2.02886667e-02, -7.74967112e-03, -6.12017810e-01,  9.27061439e-02,\n",
       "        2.64128715e-01, -2.07360461e-01,  1.65580884e-02, -1.02958731e-01,\n",
       "       -5.47318645e-02, -1.41774088e-01,  2.56403953e-01,  3.75326663e-01,\n",
       "       -1.53119028e-01,  4.99065705e-02, -4.04619798e-02, -1.86835364e-01,\n",
       "       -4.29573894e-01, -4.12393719e-01,  2.42675379e-01,  2.27328464e-01,\n",
       "       -2.77456015e-01, -6.34195149e-01,  2.17318758e-01,  1.46929041e-01,\n",
       "        2.41663575e-01,  1.91887066e-01, -4.92579818e-01, -3.57283801e-01,\n",
       "       -1.99065924e-01, -2.87246466e-01, -9.21466872e-02, -3.09324767e-02,\n",
       "       -1.88486695e-01, -4.90697235e-01, -1.21539705e-01,  5.11535518e-02,\n",
       "        9.20378864e-02,  1.46702722e-01, -3.73230726e-01,  3.30401100e-02,\n",
       "        6.35342181e-01,  5.76737225e-01,  3.36061746e-01, -3.24876219e-01,\n",
       "        1.64934114e-01, -8.61110017e-02,  2.30646040e-02,  3.28080446e-01,\n",
       "       -4.46277857e-01, -4.27076906e-01,  4.84256476e-01,  1.91272441e-02,\n",
       "       -7.79460013e-01,  2.12316766e-01,  1.84704542e-01,  1.52366176e-01,\n",
       "       -1.95074990e-01, -3.16827089e-01,  3.55293393e-01,  1.42488524e-01,\n",
       "       -1.50919273e-01, -6.75586522e-01, -3.30470324e-01,  2.69492149e-01,\n",
       "        7.32651055e-01,  4.59322423e-01,  4.55381632e-01, -6.09096467e-01,\n",
       "       -6.79084659e-02, -1.86182484e-01,  4.15845871e-01, -3.82847160e-01,\n",
       "        7.00971708e-02,  2.90476352e-01, -5.72002828e-01,  7.83703923e-02,\n",
       "       -9.42694545e-02,  3.96584898e-01,  6.42477125e-02,  3.36281449e-01,\n",
       "        8.27872083e-02, -7.53300965e-01, -6.50651693e-01,  1.65271580e-01,\n",
       "       -3.57877053e-02,  4.63060588e-01,  5.26475132e-01,  1.58494040e-01,\n",
       "       -3.00185472e-01,  4.90915537e-01, -6.71256781e-01,  2.00982288e-01,\n",
       "       -2.50111729e-01,  3.63894552e-01,  5.12835383e-01, -1.10861428e-01,\n",
       "        7.16773197e-02,  1.62745520e-01, -2.21458972e-01, -6.03748083e-01,\n",
       "       -7.84313381e-02,  2.74889350e-01, -1.93505928e-01, -1.03931703e-01,\n",
       "        1.12955153e-01, -4.15644377e-01,  3.01290721e-01, -8.10106769e-02,\n",
       "       -7.81707346e-01, -4.90465850e-01,  9.07604918e-02, -4.68402386e-01,\n",
       "        8.10499415e-02,  3.25848132e-01,  4.10151444e-02, -2.86079317e-01,\n",
       "       -1.64502040e-01,  2.38058701e-01, -5.03341258e-02, -5.16828716e-01,\n",
       "       -5.81327617e-01, -1.48728982e-01,  1.22711696e-01, -2.60899782e-01,\n",
       "        3.13430101e-01,  4.01126266e-01, -9.54388082e-02,  1.66539103e-03,\n",
       "        1.40683755e-01,  2.47678205e-01,  9.95630845e-02,  5.50064929e-02,\n",
       "        5.29242814e-01, -1.53072909e-01, -5.51282585e-01, -2.45970860e-01,\n",
       "       -1.75603807e-01, -1.84697986e-01,  5.12074232e-01, -1.77263040e-02,\n",
       "        1.27569750e-01,  1.66365862e-01, -4.26642329e-01,  2.26621389e-01,\n",
       "       -7.99232006e-01,  9.10464227e-02,  1.12171717e-01,  1.37919292e-01],\n",
       "      dtype=float32)"
      ]
     },
     "execution_count": 18,
     "metadata": {},
     "output_type": "execute_result"
    }
   ],
   "source": [
    "# 첫번째 문장 -> 임베딩 확인 \n",
    "model.encode(df.loc[0, 'question'])"
   ]
  },
  {
   "cell_type": "code",
   "execution_count": 8,
   "metadata": {},
   "outputs": [
    {
     "data": {
      "text/html": [
       "<div>\n",
       "<style scoped>\n",
       "    .dataframe tbody tr th:only-of-type {\n",
       "        vertical-align: middle;\n",
       "    }\n",
       "\n",
       "    .dataframe tbody tr th {\n",
       "        vertical-align: top;\n",
       "    }\n",
       "\n",
       "    .dataframe thead th {\n",
       "        text-align: right;\n",
       "    }\n",
       "</style>\n",
       "<table border=\"1\" class=\"dataframe\">\n",
       "  <thead>\n",
       "    <tr style=\"text-align: right;\">\n",
       "      <th></th>\n",
       "      <th>domain</th>\n",
       "      <th>question</th>\n",
       "      <th>answer</th>\n",
       "      <th>embedding</th>\n",
       "    </tr>\n",
       "  </thead>\n",
       "  <tbody>\n",
       "    <tr>\n",
       "      <th>0</th>\n",
       "      <td>daily</td>\n",
       "      <td>알고 있어.</td>\n",
       "      <td>오늘도 고생 많이 하셨습니다.</td>\n",
       "      <td>[0.1395109, -0.7236202, -0.36575186, 0.1491141...</td>\n",
       "    </tr>\n",
       "    <tr>\n",
       "      <th>1</th>\n",
       "      <td>daily</td>\n",
       "      <td>밖에 날씨는?</td>\n",
       "      <td>월요일 퇴근전 현재 맑고 저온건조한데다가 공기는 맑은 편입니다.</td>\n",
       "      <td>[-0.6533351, -0.36782613, 0.78354526, -0.02236...</td>\n",
       "    </tr>\n",
       "    <tr>\n",
       "      <th>2</th>\n",
       "      <td>daily</td>\n",
       "      <td>알았다.</td>\n",
       "      <td>오늘도 고생이 많으셨습니다.</td>\n",
       "      <td>[0.08001693, -0.5358173, 0.012687151, -0.01290...</td>\n",
       "    </tr>\n",
       "    <tr>\n",
       "      <th>3</th>\n",
       "      <td>daily</td>\n",
       "      <td>퇴근한다.</td>\n",
       "      <td>오늘도 일하느라 수고하셨어요.</td>\n",
       "      <td>[-0.17582458, 0.32981366, -0.2852519, -0.15695...</td>\n",
       "    </tr>\n",
       "    <tr>\n",
       "      <th>4</th>\n",
       "      <td>daily</td>\n",
       "      <td>알면 됐다.</td>\n",
       "      <td>그럼 내일 뵙겠습니다.</td>\n",
       "      <td>[-0.018741427, -0.35529342, 0.28030354, 0.0929...</td>\n",
       "    </tr>\n",
       "  </tbody>\n",
       "</table>\n",
       "</div>"
      ],
      "text/plain": [
       "  domain question                               answer  \\\n",
       "0  daily   알고 있어.                     오늘도 고생 많이 하셨습니다.   \n",
       "1  daily  밖에 날씨는?  월요일 퇴근전 현재 맑고 저온건조한데다가 공기는 맑은 편입니다.   \n",
       "2  daily     알았다.                      오늘도 고생이 많으셨습니다.   \n",
       "3  daily    퇴근한다.                     오늘도 일하느라 수고하셨어요.   \n",
       "4  daily   알면 됐다.                         그럼 내일 뵙겠습니다.   \n",
       "\n",
       "                                           embedding  \n",
       "0  [0.1395109, -0.7236202, -0.36575186, 0.1491141...  \n",
       "1  [-0.6533351, -0.36782613, 0.78354526, -0.02236...  \n",
       "2  [0.08001693, -0.5358173, 0.012687151, -0.01290...  \n",
       "3  [-0.17582458, 0.32981366, -0.2852519, -0.15695...  \n",
       "4  [-0.018741427, -0.35529342, 0.28030354, 0.0929...  "
      ]
     },
     "execution_count": 8,
     "metadata": {},
     "output_type": "execute_result"
    }
   ],
   "source": [
    "df['embedding'] = pd.Series([[]] * len(df)) \n",
    "\n",
    "df['embedding'] = df['question'].map(lambda x: list(model.encode(x)))\n",
    "\n",
    "df.head()"
   ]
  },
  {
   "cell_type": "code",
   "execution_count": 9,
   "metadata": {},
   "outputs": [],
   "source": [
    "df.to_csv('office_conversation_final.csv', index=False)"
   ]
  },
  {
   "cell_type": "markdown",
   "metadata": {},
   "source": [
    "## 간단한 챗봇 테스트"
   ]
  },
  {
   "cell_type": "code",
   "execution_count": 10,
   "metadata": {},
   "outputs": [],
   "source": [
    "text = '좋은 아침입니다.'\n",
    "\n",
    "embedding = model.encode(text)"
   ]
  },
  {
   "cell_type": "code",
   "execution_count": 11,
   "metadata": {},
   "outputs": [
    {
     "data": {
      "text/html": [
       "<div>\n",
       "<style scoped>\n",
       "    .dataframe tbody tr th:only-of-type {\n",
       "        vertical-align: middle;\n",
       "    }\n",
       "\n",
       "    .dataframe tbody tr th {\n",
       "        vertical-align: top;\n",
       "    }\n",
       "\n",
       "    .dataframe thead th {\n",
       "        text-align: right;\n",
       "    }\n",
       "</style>\n",
       "<table border=\"1\" class=\"dataframe\">\n",
       "  <thead>\n",
       "    <tr style=\"text-align: right;\">\n",
       "      <th></th>\n",
       "      <th>domain</th>\n",
       "      <th>question</th>\n",
       "      <th>answer</th>\n",
       "      <th>embedding</th>\n",
       "      <th>distance</th>\n",
       "    </tr>\n",
       "  </thead>\n",
       "  <tbody>\n",
       "    <tr>\n",
       "      <th>0</th>\n",
       "      <td>daily</td>\n",
       "      <td>알고 있어.</td>\n",
       "      <td>오늘도 고생 많이 하셨습니다.</td>\n",
       "      <td>[0.1395109, -0.7236202, -0.36575186, 0.1491141...</td>\n",
       "      <td>0.306625</td>\n",
       "    </tr>\n",
       "    <tr>\n",
       "      <th>1</th>\n",
       "      <td>daily</td>\n",
       "      <td>밖에 날씨는?</td>\n",
       "      <td>월요일 퇴근전 현재 맑고 저온건조한데다가 공기는 맑은 편입니다.</td>\n",
       "      <td>[-0.6533351, -0.36782613, 0.78354526, -0.02236...</td>\n",
       "      <td>0.378197</td>\n",
       "    </tr>\n",
       "    <tr>\n",
       "      <th>2</th>\n",
       "      <td>daily</td>\n",
       "      <td>알았다.</td>\n",
       "      <td>오늘도 고생이 많으셨습니다.</td>\n",
       "      <td>[0.08001693, -0.5358173, 0.012687151, -0.01290...</td>\n",
       "      <td>0.299849</td>\n",
       "    </tr>\n",
       "    <tr>\n",
       "      <th>3</th>\n",
       "      <td>daily</td>\n",
       "      <td>퇴근한다.</td>\n",
       "      <td>오늘도 일하느라 수고하셨어요.</td>\n",
       "      <td>[-0.17582458, 0.32981366, -0.2852519, -0.15695...</td>\n",
       "      <td>0.283873</td>\n",
       "    </tr>\n",
       "    <tr>\n",
       "      <th>4</th>\n",
       "      <td>daily</td>\n",
       "      <td>알면 됐다.</td>\n",
       "      <td>그럼 내일 뵙겠습니다.</td>\n",
       "      <td>[-0.018741427, -0.35529342, 0.28030354, 0.0929...</td>\n",
       "      <td>0.273965</td>\n",
       "    </tr>\n",
       "  </tbody>\n",
       "</table>\n",
       "</div>"
      ],
      "text/plain": [
       "  domain question                               answer  \\\n",
       "0  daily   알고 있어.                     오늘도 고생 많이 하셨습니다.   \n",
       "1  daily  밖에 날씨는?  월요일 퇴근전 현재 맑고 저온건조한데다가 공기는 맑은 편입니다.   \n",
       "2  daily     알았다.                      오늘도 고생이 많으셨습니다.   \n",
       "3  daily    퇴근한다.                     오늘도 일하느라 수고하셨어요.   \n",
       "4  daily   알면 됐다.                         그럼 내일 뵙겠습니다.   \n",
       "\n",
       "                                           embedding  distance  \n",
       "0  [0.1395109, -0.7236202, -0.36575186, 0.1491141...  0.306625  \n",
       "1  [-0.6533351, -0.36782613, 0.78354526, -0.02236...  0.378197  \n",
       "2  [0.08001693, -0.5358173, 0.012687151, -0.01290...  0.299849  \n",
       "3  [-0.17582458, 0.32981366, -0.2852519, -0.15695...  0.283873  \n",
       "4  [-0.018741427, -0.35529342, 0.28030354, 0.0929...  0.273965  "
      ]
     },
     "execution_count": 11,
     "metadata": {},
     "output_type": "execute_result"
    }
   ],
   "source": [
    "df['distance'] = df['embedding'].map(lambda x: cosine_similarity([embedding], [x]).squeeze())\n",
    "\n",
    "df.head()"
   ]
  },
  {
   "cell_type": "code",
   "execution_count": 12,
   "metadata": {},
   "outputs": [
    {
     "name": "stdout",
     "output_type": "stream",
     "text": [
      "구분 daily\n",
      "유사한 질문 좋은 아침이야. \n",
      "챗봇 답변 오늘 기분 좋은 일 있으세요? \n",
      "유사도 0.9867659211158752\n"
     ]
    }
   ],
   "source": [
    "# 질문과 유사한 문장 검색 후 -> 답변 반환    \n",
    "answer = df.loc[df['distance'].idxmax()]\n",
    "\n",
    "print('구분', answer['domain'])\n",
    "print('유사한 질문', answer['question'])\n",
    "print('챗봇 답변', answer['answer'])\n",
    "print('유사도', answer['distance'])"
   ]
  },
  {
   "cell_type": "markdown",
   "metadata": {},
   "source": [
    "## 챗봇 구현 및 배포를 위한 streamlit 실행 파일 작성\n",
    "\n",
    "- Streamlit(https://streamlit.io/) 서비스 활용\n",
    "  \n",
    "- chatbot.py에 별도 구현 및 실행에 활용"
   ]
  },
  {
   "cell_type": "code",
   "execution_count": null,
   "metadata": {},
   "outputs": [],
   "source": [
    "import streamlit as st\n",
    "from streamlit_chat import message\n",
    "import pandas as pd\n",
    "from sentence_transformers import SentenceTransformer\n",
    "from sklearn.metrics.pairwise import cosine_similarity\n",
    "import json\n",
    "\n",
    "@st.cache(allow_output_mutation=True)\n",
    "def cached_model():\n",
    "    model = SentenceTransformer('jhgan/ko-sroberta-multitask')\n",
    "    return model\n",
    "\n",
    "@st.cache(allow_output_mutation=True)\n",
    "def get_dataset():\n",
    "    df = pd.read_csv('./office_conversation_final.csv')\n",
    "    df['embedding'] = df['embedding'].apply(json.loads)\n",
    "    return df\n",
    "\n",
    "model = cached_model()\n",
    "df = get_dataset()\n",
    "\n",
    "st.header('Kong\\'s 사무실 일상 챗봇 <사무실 너머머>')\n",
    "st.markdown(\"[제작: Kong Ju](https://kongju7.github.io)\")\n",
    "\n",
    "if 'generated' not in st.session_state:\n",
    "    st.session_state['generated'] = []\n",
    "\n",
    "if 'past' not in st.session_state:\n",
    "    st.session_state['past'] = []\n",
    "\n",
    "with st.form('form', clear_on_submit=True):\n",
    "    user_input = st.text_input('당신: ', '')\n",
    "    submitted = st.form_submit_button('전송')\n",
    "\n",
    "if submitted and user_input:\n",
    "    embedding = model.encode(user_input)\n",
    "\n",
    "    df['distance'] = df['embedding'].map(lambda x: cosine_similarity([embedding], [x]).squeeze())\n",
    "    answer = df.loc[df['distance'].idxmax()]\n",
    "\n",
    "    st.session_state.past.append(user_input)\n",
    "    st.session_state.generated.append(answer['answer'])\n",
    "\n",
    "for i in range(len(st.session_state['past'])):\n",
    "    message(st.session_state['past'][i], is_user=True, key=str(i) + '_user')\n",
    "    if len(st.session_state['generated']) > i:\n",
    "        message(st.session_state['generated'][i], key=str(i) + '_bot')\n"
   ]
  },
  {
   "cell_type": "markdown",
   "metadata": {},
   "source": [
    "![챗봇](./img/chatbot.png \"챗봇\")"
   ]
  },
  {
   "cell_type": "markdown",
   "metadata": {},
   "source": [
    "- 링크: https://kongju7-my-project4-chatbot-63c0p0.streamlit.app/"
   ]
  }
 ],
 "metadata": {
  "kernelspec": {
   "display_name": "Python 3.8.13 ('codestates')",
   "language": "python",
   "name": "python3"
  },
  "language_info": {
   "codemirror_mode": {
    "name": "ipython",
    "version": 3
   },
   "file_extension": ".py",
   "mimetype": "text/x-python",
   "name": "python",
   "nbconvert_exporter": "python",
   "pygments_lexer": "ipython3",
   "version": "3.8.13"
  },
  "vscode": {
   "interpreter": {
    "hash": "f152d26ac7fb16b42a55bd9378541b05be196d5e857a3dc12b25ffa9f810ce23"
   }
  }
 },
 "nbformat": 4,
 "nbformat_minor": 4
}
